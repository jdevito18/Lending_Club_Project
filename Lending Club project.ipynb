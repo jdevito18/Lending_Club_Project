{
 "cells": [
  {
   "cell_type": "markdown",
   "metadata": {},
   "source": [
    "# Independent Research Project\n",
    "## Lending Club 2007-2015 Data Exploration\n",
    "### Author: Joseph DeVito\n",
    "#### Objective:\n",
    "The goal of this project is to explore the data of approved loans from 2007 to 2015, sourced from online lender Lending Club (www.lendingclub.com). The project has two parts, the first which aims at employing classification techniques to the problem of predicting whether or not a borrower will repay his or her loan on time, and the second being an experiment with grouping similar borrowers. This is my first independent research project, which I plan to use as a hands on data science learning experience to develop my EDA and machine learning skills.\n"
   ]
  },
  {
   "cell_type": "markdown",
   "metadata": {},
   "source": [
    "## Imports"
   ]
  },
  {
   "cell_type": "code",
   "execution_count": 46,
   "metadata": {},
   "outputs": [],
   "source": [
    "%matplotlib inline\n",
    "\n",
    "# Import\n",
    "import math, time, random\n",
    "import datetime as dt\n",
    "\n",
    "# Data Manipulation\n",
    "import numpy as np\n",
    "import pandas as pd\n",
    "from scipy.stats import pearsonr\n",
    "\n",
    "# Data Visualization\n",
    "import matplotlib.pyplot as plt\n",
    "import missingno\n",
    "import seaborn as sns\n",
    "plt.style.use('seaborn-whitegrid')\n",
    "\n",
    "# Pre-processing\n",
    "from sklearn.preprocessing import OneHotEncoder, LabelEncoder, RobustScaler\n",
    "\n",
    "# Machine Learning\n",
    "from sklearn.model_selection import KFold, StratifiedKFold\n",
    "from sklearn.model_selection import cross_val_predict\n",
    "from sklearn.model_selection import cross_val_score\n",
    "from sklearn.model_selection import train_test_split\n",
    "from sklearn.ensemble import RandomForestClassifier\n",
    "from sklearn.ensemble import AdaBoostClassifier\n",
    "from sklearn.linear_model import LogisticRegression\n",
    "from sklearn.naive_bayes import GaussianNB\n",
    "from imblearn.under_sampling import RandomUnderSampler\n",
    "from sklearn.model_selection import GridSearchCV\n",
    "from sklearn.ensemble import VotingClassifier\n",
    "\n",
    "\n",
    "\n",
    "import warnings\n",
    "warnings.filterwarnings('ignore')\n"
   ]
  },
  {
   "cell_type": "code",
   "execution_count": 3,
   "metadata": {},
   "outputs": [],
   "source": [
    "# Functions:\n",
    "\n",
    "# Code credits to Masum Rumi on Kaggle:\n",
    "def missing_percentage(df):\n",
    "    \"\"\"This function takes a DataFrame(df) as input and returns two columns, total missing values and total missing values percentage\"\"\"\n",
    "    ## the two following line may seem complicated but its actually very simple. \n",
    "    total = df.isnull().sum().sort_values(ascending = False)[df.isnull().sum().sort_values(ascending = False) != 0]\n",
    "    percent = round(df.isnull().sum().sort_values(ascending = False)/len(df)*100,2)[round(df.isnull().sum().sort_values(ascending = False)/len(df)*100,2) != 0]\n",
    "    return pd.concat([total, percent], axis=1, keys=['Total','Percent'])"
   ]
  },
  {
   "cell_type": "markdown",
   "metadata": {},
   "source": [
    "# EDA\n",
    "## Includes:\n",
    " - **Loading the data**\n",
    "    - Understanding the shape/size and description of the data.\n",
    " - **Data Analysis and Cleaning:**\n",
    "    - Missing values\n",
    "    - Target Creation\n",
    "    - Data Visualization\n",
    "    - Feature Investigation & Engineering\n",
    "       - Encoding\n",
    "       - Standardizing"
   ]
  },
  {
   "cell_type": "code",
   "execution_count": 4,
   "metadata": {},
   "outputs": [
    {
     "name": "stdout",
     "output_type": "stream",
     "text": [
      "Number of features: 145\n",
      "Number of examples: 2260668\n"
     ]
    }
   ],
   "source": [
    "# Loading the dataset:\n",
    "data = pd.read_csv('~/Desktop/datasets/lending-club-loan-data/loan.csv', low_memory=False)\n",
    "\n",
    "# Getting some information about the size/shape/types of the dataset:\n",
    "print('Number of features: {}'.format(data.shape[1]))\n",
    "print('Number of examples: {}'.format(data.shape[0]))"
   ]
  },
  {
   "cell_type": "markdown",
   "metadata": {},
   "source": [
    "### Missing Values:\n",
    "Lets see how many columns we can exclude due to lack of information. The following function missing_percentage is a useful function that I found in one of Masum Rumi's notebooks, which easily displays the number of missing values and the number of missing values as a percentage of total values for each given feature in the dataset."
   ]
  },
  {
   "cell_type": "code",
   "execution_count": 5,
   "metadata": {},
   "outputs": [
    {
     "data": {
      "text/html": [
       "<div>\n",
       "<style scoped>\n",
       "    .dataframe tbody tr th:only-of-type {\n",
       "        vertical-align: middle;\n",
       "    }\n",
       "\n",
       "    .dataframe tbody tr th {\n",
       "        vertical-align: top;\n",
       "    }\n",
       "\n",
       "    .dataframe thead th {\n",
       "        text-align: right;\n",
       "    }\n",
       "</style>\n",
       "<table border=\"1\" class=\"dataframe\">\n",
       "  <thead>\n",
       "    <tr style=\"text-align: right;\">\n",
       "      <th></th>\n",
       "      <th>Total</th>\n",
       "      <th>Percent</th>\n",
       "    </tr>\n",
       "  </thead>\n",
       "  <tbody>\n",
       "    <tr>\n",
       "      <th>acc_now_delinq</th>\n",
       "      <td>29</td>\n",
       "      <td>NaN</td>\n",
       "    </tr>\n",
       "    <tr>\n",
       "      <th>acc_open_past_24mths</th>\n",
       "      <td>50030</td>\n",
       "      <td>2.21</td>\n",
       "    </tr>\n",
       "    <tr>\n",
       "      <th>all_util</th>\n",
       "      <td>866348</td>\n",
       "      <td>38.32</td>\n",
       "    </tr>\n",
       "    <tr>\n",
       "      <th>annual_inc</th>\n",
       "      <td>4</td>\n",
       "      <td>NaN</td>\n",
       "    </tr>\n",
       "    <tr>\n",
       "      <th>annual_inc_joint</th>\n",
       "      <td>2139958</td>\n",
       "      <td>94.66</td>\n",
       "    </tr>\n",
       "    <tr>\n",
       "      <th>avg_cur_bal</th>\n",
       "      <td>70346</td>\n",
       "      <td>3.11</td>\n",
       "    </tr>\n",
       "    <tr>\n",
       "      <th>bc_open_to_buy</th>\n",
       "      <td>74935</td>\n",
       "      <td>3.31</td>\n",
       "    </tr>\n",
       "    <tr>\n",
       "      <th>bc_util</th>\n",
       "      <td>76071</td>\n",
       "      <td>3.36</td>\n",
       "    </tr>\n",
       "    <tr>\n",
       "      <th>chargeoff_within_12_mths</th>\n",
       "      <td>145</td>\n",
       "      <td>0.01</td>\n",
       "    </tr>\n",
       "    <tr>\n",
       "      <th>collections_12_mths_ex_med</th>\n",
       "      <td>145</td>\n",
       "      <td>0.01</td>\n",
       "    </tr>\n",
       "    <tr>\n",
       "      <th>debt_settlement_flag_date</th>\n",
       "      <td>2227612</td>\n",
       "      <td>98.54</td>\n",
       "    </tr>\n",
       "    <tr>\n",
       "      <th>deferral_term</th>\n",
       "      <td>2250055</td>\n",
       "      <td>99.53</td>\n",
       "    </tr>\n",
       "    <tr>\n",
       "      <th>delinq_2yrs</th>\n",
       "      <td>29</td>\n",
       "      <td>NaN</td>\n",
       "    </tr>\n",
       "    <tr>\n",
       "      <th>delinq_amnt</th>\n",
       "      <td>29</td>\n",
       "      <td>NaN</td>\n",
       "    </tr>\n",
       "    <tr>\n",
       "      <th>desc</th>\n",
       "      <td>2134601</td>\n",
       "      <td>94.42</td>\n",
       "    </tr>\n",
       "    <tr>\n",
       "      <th>dti</th>\n",
       "      <td>1711</td>\n",
       "      <td>0.08</td>\n",
       "    </tr>\n",
       "    <tr>\n",
       "      <th>dti_joint</th>\n",
       "      <td>2139962</td>\n",
       "      <td>94.66</td>\n",
       "    </tr>\n",
       "    <tr>\n",
       "      <th>earliest_cr_line</th>\n",
       "      <td>29</td>\n",
       "      <td>NaN</td>\n",
       "    </tr>\n",
       "    <tr>\n",
       "      <th>emp_length</th>\n",
       "      <td>146907</td>\n",
       "      <td>6.50</td>\n",
       "    </tr>\n",
       "    <tr>\n",
       "      <th>emp_title</th>\n",
       "      <td>166969</td>\n",
       "      <td>7.39</td>\n",
       "    </tr>\n",
       "    <tr>\n",
       "      <th>hardship_amount</th>\n",
       "      <td>2250055</td>\n",
       "      <td>99.53</td>\n",
       "    </tr>\n",
       "    <tr>\n",
       "      <th>hardship_dpd</th>\n",
       "      <td>2250055</td>\n",
       "      <td>99.53</td>\n",
       "    </tr>\n",
       "    <tr>\n",
       "      <th>hardship_end_date</th>\n",
       "      <td>2250055</td>\n",
       "      <td>99.53</td>\n",
       "    </tr>\n",
       "    <tr>\n",
       "      <th>hardship_last_payment_amount</th>\n",
       "      <td>2250055</td>\n",
       "      <td>99.53</td>\n",
       "    </tr>\n",
       "    <tr>\n",
       "      <th>hardship_length</th>\n",
       "      <td>2250055</td>\n",
       "      <td>99.53</td>\n",
       "    </tr>\n",
       "    <tr>\n",
       "      <th>hardship_loan_status</th>\n",
       "      <td>2250055</td>\n",
       "      <td>99.53</td>\n",
       "    </tr>\n",
       "    <tr>\n",
       "      <th>hardship_payoff_balance_amount</th>\n",
       "      <td>2250055</td>\n",
       "      <td>99.53</td>\n",
       "    </tr>\n",
       "    <tr>\n",
       "      <th>hardship_reason</th>\n",
       "      <td>2250055</td>\n",
       "      <td>99.53</td>\n",
       "    </tr>\n",
       "    <tr>\n",
       "      <th>hardship_start_date</th>\n",
       "      <td>2250055</td>\n",
       "      <td>99.53</td>\n",
       "    </tr>\n",
       "    <tr>\n",
       "      <th>hardship_status</th>\n",
       "      <td>2250055</td>\n",
       "      <td>99.53</td>\n",
       "    </tr>\n",
       "    <tr>\n",
       "      <th>...</th>\n",
       "      <td>...</td>\n",
       "      <td>...</td>\n",
       "    </tr>\n",
       "    <tr>\n",
       "      <th>sec_app_chargeoff_within_12_mths</th>\n",
       "      <td>2152647</td>\n",
       "      <td>95.22</td>\n",
       "    </tr>\n",
       "    <tr>\n",
       "      <th>sec_app_collections_12_mths_ex_med</th>\n",
       "      <td>2152647</td>\n",
       "      <td>95.22</td>\n",
       "    </tr>\n",
       "    <tr>\n",
       "      <th>sec_app_earliest_cr_line</th>\n",
       "      <td>2152647</td>\n",
       "      <td>95.22</td>\n",
       "    </tr>\n",
       "    <tr>\n",
       "      <th>sec_app_inq_last_6mths</th>\n",
       "      <td>2152647</td>\n",
       "      <td>95.22</td>\n",
       "    </tr>\n",
       "    <tr>\n",
       "      <th>sec_app_mort_acc</th>\n",
       "      <td>2152647</td>\n",
       "      <td>95.22</td>\n",
       "    </tr>\n",
       "    <tr>\n",
       "      <th>sec_app_mths_since_last_major_derog</th>\n",
       "      <td>2224726</td>\n",
       "      <td>98.41</td>\n",
       "    </tr>\n",
       "    <tr>\n",
       "      <th>sec_app_num_rev_accts</th>\n",
       "      <td>2152647</td>\n",
       "      <td>95.22</td>\n",
       "    </tr>\n",
       "    <tr>\n",
       "      <th>sec_app_open_acc</th>\n",
       "      <td>2152647</td>\n",
       "      <td>95.22</td>\n",
       "    </tr>\n",
       "    <tr>\n",
       "      <th>sec_app_open_act_il</th>\n",
       "      <td>2152647</td>\n",
       "      <td>95.22</td>\n",
       "    </tr>\n",
       "    <tr>\n",
       "      <th>sec_app_revol_util</th>\n",
       "      <td>2154484</td>\n",
       "      <td>95.30</td>\n",
       "    </tr>\n",
       "    <tr>\n",
       "      <th>settlement_amount</th>\n",
       "      <td>2227612</td>\n",
       "      <td>98.54</td>\n",
       "    </tr>\n",
       "    <tr>\n",
       "      <th>settlement_date</th>\n",
       "      <td>2227612</td>\n",
       "      <td>98.54</td>\n",
       "    </tr>\n",
       "    <tr>\n",
       "      <th>settlement_percentage</th>\n",
       "      <td>2227612</td>\n",
       "      <td>98.54</td>\n",
       "    </tr>\n",
       "    <tr>\n",
       "      <th>settlement_status</th>\n",
       "      <td>2227612</td>\n",
       "      <td>98.54</td>\n",
       "    </tr>\n",
       "    <tr>\n",
       "      <th>settlement_term</th>\n",
       "      <td>2227612</td>\n",
       "      <td>98.54</td>\n",
       "    </tr>\n",
       "    <tr>\n",
       "      <th>tax_liens</th>\n",
       "      <td>105</td>\n",
       "      <td>NaN</td>\n",
       "    </tr>\n",
       "    <tr>\n",
       "      <th>title</th>\n",
       "      <td>23325</td>\n",
       "      <td>1.03</td>\n",
       "    </tr>\n",
       "    <tr>\n",
       "      <th>tot_coll_amt</th>\n",
       "      <td>70276</td>\n",
       "      <td>3.11</td>\n",
       "    </tr>\n",
       "    <tr>\n",
       "      <th>tot_cur_bal</th>\n",
       "      <td>70276</td>\n",
       "      <td>3.11</td>\n",
       "    </tr>\n",
       "    <tr>\n",
       "      <th>tot_hi_cred_lim</th>\n",
       "      <td>70276</td>\n",
       "      <td>3.11</td>\n",
       "    </tr>\n",
       "    <tr>\n",
       "      <th>total_acc</th>\n",
       "      <td>29</td>\n",
       "      <td>NaN</td>\n",
       "    </tr>\n",
       "    <tr>\n",
       "      <th>total_bal_ex_mort</th>\n",
       "      <td>50030</td>\n",
       "      <td>2.21</td>\n",
       "    </tr>\n",
       "    <tr>\n",
       "      <th>total_bal_il</th>\n",
       "      <td>866129</td>\n",
       "      <td>38.31</td>\n",
       "    </tr>\n",
       "    <tr>\n",
       "      <th>total_bc_limit</th>\n",
       "      <td>50030</td>\n",
       "      <td>2.21</td>\n",
       "    </tr>\n",
       "    <tr>\n",
       "      <th>total_cu_tl</th>\n",
       "      <td>866130</td>\n",
       "      <td>38.31</td>\n",
       "    </tr>\n",
       "    <tr>\n",
       "      <th>total_il_high_credit_limit</th>\n",
       "      <td>70276</td>\n",
       "      <td>3.11</td>\n",
       "    </tr>\n",
       "    <tr>\n",
       "      <th>total_rev_hi_lim</th>\n",
       "      <td>70276</td>\n",
       "      <td>3.11</td>\n",
       "    </tr>\n",
       "    <tr>\n",
       "      <th>url</th>\n",
       "      <td>2260668</td>\n",
       "      <td>100.00</td>\n",
       "    </tr>\n",
       "    <tr>\n",
       "      <th>verification_status_joint</th>\n",
       "      <td>2144938</td>\n",
       "      <td>94.88</td>\n",
       "    </tr>\n",
       "    <tr>\n",
       "      <th>zip_code</th>\n",
       "      <td>1</td>\n",
       "      <td>NaN</td>\n",
       "    </tr>\n",
       "  </tbody>\n",
       "</table>\n",
       "<p>113 rows × 2 columns</p>\n",
       "</div>"
      ],
      "text/plain": [
       "                                       Total  Percent\n",
       "acc_now_delinq                            29      NaN\n",
       "acc_open_past_24mths                   50030     2.21\n",
       "all_util                              866348    38.32\n",
       "annual_inc                                 4      NaN\n",
       "annual_inc_joint                     2139958    94.66\n",
       "avg_cur_bal                            70346     3.11\n",
       "bc_open_to_buy                         74935     3.31\n",
       "bc_util                                76071     3.36\n",
       "chargeoff_within_12_mths                 145     0.01\n",
       "collections_12_mths_ex_med               145     0.01\n",
       "debt_settlement_flag_date            2227612    98.54\n",
       "deferral_term                        2250055    99.53\n",
       "delinq_2yrs                               29      NaN\n",
       "delinq_amnt                               29      NaN\n",
       "desc                                 2134601    94.42\n",
       "dti                                     1711     0.08\n",
       "dti_joint                            2139962    94.66\n",
       "earliest_cr_line                          29      NaN\n",
       "emp_length                            146907     6.50\n",
       "emp_title                             166969     7.39\n",
       "hardship_amount                      2250055    99.53\n",
       "hardship_dpd                         2250055    99.53\n",
       "hardship_end_date                    2250055    99.53\n",
       "hardship_last_payment_amount         2250055    99.53\n",
       "hardship_length                      2250055    99.53\n",
       "hardship_loan_status                 2250055    99.53\n",
       "hardship_payoff_balance_amount       2250055    99.53\n",
       "hardship_reason                      2250055    99.53\n",
       "hardship_start_date                  2250055    99.53\n",
       "hardship_status                      2250055    99.53\n",
       "...                                      ...      ...\n",
       "sec_app_chargeoff_within_12_mths     2152647    95.22\n",
       "sec_app_collections_12_mths_ex_med   2152647    95.22\n",
       "sec_app_earliest_cr_line             2152647    95.22\n",
       "sec_app_inq_last_6mths               2152647    95.22\n",
       "sec_app_mort_acc                     2152647    95.22\n",
       "sec_app_mths_since_last_major_derog  2224726    98.41\n",
       "sec_app_num_rev_accts                2152647    95.22\n",
       "sec_app_open_acc                     2152647    95.22\n",
       "sec_app_open_act_il                  2152647    95.22\n",
       "sec_app_revol_util                   2154484    95.30\n",
       "settlement_amount                    2227612    98.54\n",
       "settlement_date                      2227612    98.54\n",
       "settlement_percentage                2227612    98.54\n",
       "settlement_status                    2227612    98.54\n",
       "settlement_term                      2227612    98.54\n",
       "tax_liens                                105      NaN\n",
       "title                                  23325     1.03\n",
       "tot_coll_amt                           70276     3.11\n",
       "tot_cur_bal                            70276     3.11\n",
       "tot_hi_cred_lim                        70276     3.11\n",
       "total_acc                                 29      NaN\n",
       "total_bal_ex_mort                      50030     2.21\n",
       "total_bal_il                          866129    38.31\n",
       "total_bc_limit                         50030     2.21\n",
       "total_cu_tl                           866130    38.31\n",
       "total_il_high_credit_limit             70276     3.11\n",
       "total_rev_hi_lim                       70276     3.11\n",
       "url                                  2260668   100.00\n",
       "verification_status_joint            2144938    94.88\n",
       "zip_code                                   1      NaN\n",
       "\n",
       "[113 rows x 2 columns]"
      ]
     },
     "execution_count": 5,
     "metadata": {},
     "output_type": "execute_result"
    }
   ],
   "source": [
    "missing_percentage(data)"
   ]
  },
  {
   "cell_type": "code",
   "execution_count": 6,
   "metadata": {
    "scrolled": true
   },
   "outputs": [],
   "source": [
    "# Lets drop all the features with 100% missing values:\n",
    "data.dropna(axis=1, how='all', inplace=True)"
   ]
  },
  {
   "cell_type": "code",
   "execution_count": 7,
   "metadata": {},
   "outputs": [],
   "source": [
    "# Lets drop all the features with >25% missing values:\n",
    "#data.drop(['id','settlement_status','settlement_percentage','debt_settlement_flag_date','settlement_term',\n",
    "           #'settlement_date','settlement_amount','next_pymnt_d','mths_since_last_record'], axis=1, inplace=True)\n",
    "data_cl = data.copy()\n",
    "data_cl.drop(['annual_inc_joint','debt_settlement_flag_date','deferral_term','desc','dti_joint','hardship_amount',\n",
    "          'hardship_dpd','hardship_end_date','hardship_last_payment_amount','hardship_length','hardship_loan_status',\n",
    "          'hardship_payoff_balance_amount','hardship_reason','hardship_start_date','hardship_status','hardship_type','sec_app_chargeoff_within_12_mths',\n",
    "          'sec_app_collections_12_mths_ex_med','sec_app_earliest_cr_line','sec_app_inq_last_6mths','sec_app_mort_acc',\n",
    "          'sec_app_mths_since_last_major_derog','sec_app_num_rev_accts','sec_app_open_acc','sec_app_open_act_il',\n",
    "          'sec_app_revol_util','settlement_amount','settlement_date','settlement_percentage','settlement_status','settlement_term',\n",
    "          'verification_status_joint','orig_projected_additional_accrued_interest','payment_plan_start_date','revol_bal_joint',\n",
    "          'mths_since_last_record','mths_since_last_delinq','mths_since_last_major_derog','mths_since_last_record',\n",
    "          'next_pymnt_d','all_util','il_util','inq_fi','inq_last_12m','max_bal_bc','mths_since_rcnt_il',\n",
    "          'mths_since_recent_bc_dlq','mths_since_recent_revol_delinq','mths_since_recent_inq','open_acc_6m',\n",
    "          'open_act_il','open_il_12m','open_il_24m','open_rv_12m','open_rv_24m','total_bal_il','total_cu_tl'], axis=1, inplace=True)\n",
    "\n",
    "\n"
   ]
  },
  {
   "cell_type": "code",
   "execution_count": 8,
   "metadata": {},
   "outputs": [
    {
     "data": {
      "text/html": [
       "<div>\n",
       "<style scoped>\n",
       "    .dataframe tbody tr th:only-of-type {\n",
       "        vertical-align: middle;\n",
       "    }\n",
       "\n",
       "    .dataframe tbody tr th {\n",
       "        vertical-align: top;\n",
       "    }\n",
       "\n",
       "    .dataframe thead th {\n",
       "        text-align: right;\n",
       "    }\n",
       "</style>\n",
       "<table border=\"1\" class=\"dataframe\">\n",
       "  <thead>\n",
       "    <tr style=\"text-align: right;\">\n",
       "      <th></th>\n",
       "      <th>Total</th>\n",
       "      <th>Percent</th>\n",
       "    </tr>\n",
       "  </thead>\n",
       "  <tbody>\n",
       "    <tr>\n",
       "      <th>acc_now_delinq</th>\n",
       "      <td>29</td>\n",
       "      <td>NaN</td>\n",
       "    </tr>\n",
       "    <tr>\n",
       "      <th>acc_open_past_24mths</th>\n",
       "      <td>50030</td>\n",
       "      <td>2.21</td>\n",
       "    </tr>\n",
       "    <tr>\n",
       "      <th>annual_inc</th>\n",
       "      <td>4</td>\n",
       "      <td>NaN</td>\n",
       "    </tr>\n",
       "    <tr>\n",
       "      <th>avg_cur_bal</th>\n",
       "      <td>70346</td>\n",
       "      <td>3.11</td>\n",
       "    </tr>\n",
       "    <tr>\n",
       "      <th>bc_open_to_buy</th>\n",
       "      <td>74935</td>\n",
       "      <td>3.31</td>\n",
       "    </tr>\n",
       "    <tr>\n",
       "      <th>bc_util</th>\n",
       "      <td>76071</td>\n",
       "      <td>3.36</td>\n",
       "    </tr>\n",
       "    <tr>\n",
       "      <th>chargeoff_within_12_mths</th>\n",
       "      <td>145</td>\n",
       "      <td>0.01</td>\n",
       "    </tr>\n",
       "    <tr>\n",
       "      <th>collections_12_mths_ex_med</th>\n",
       "      <td>145</td>\n",
       "      <td>0.01</td>\n",
       "    </tr>\n",
       "    <tr>\n",
       "      <th>delinq_2yrs</th>\n",
       "      <td>29</td>\n",
       "      <td>NaN</td>\n",
       "    </tr>\n",
       "    <tr>\n",
       "      <th>delinq_amnt</th>\n",
       "      <td>29</td>\n",
       "      <td>NaN</td>\n",
       "    </tr>\n",
       "    <tr>\n",
       "      <th>dti</th>\n",
       "      <td>1711</td>\n",
       "      <td>0.08</td>\n",
       "    </tr>\n",
       "    <tr>\n",
       "      <th>earliest_cr_line</th>\n",
       "      <td>29</td>\n",
       "      <td>NaN</td>\n",
       "    </tr>\n",
       "    <tr>\n",
       "      <th>emp_length</th>\n",
       "      <td>146907</td>\n",
       "      <td>6.50</td>\n",
       "    </tr>\n",
       "    <tr>\n",
       "      <th>emp_title</th>\n",
       "      <td>166969</td>\n",
       "      <td>7.39</td>\n",
       "    </tr>\n",
       "    <tr>\n",
       "      <th>inq_last_6mths</th>\n",
       "      <td>30</td>\n",
       "      <td>NaN</td>\n",
       "    </tr>\n",
       "    <tr>\n",
       "      <th>last_credit_pull_d</th>\n",
       "      <td>73</td>\n",
       "      <td>NaN</td>\n",
       "    </tr>\n",
       "    <tr>\n",
       "      <th>last_pymnt_d</th>\n",
       "      <td>2426</td>\n",
       "      <td>0.11</td>\n",
       "    </tr>\n",
       "    <tr>\n",
       "      <th>mo_sin_old_il_acct</th>\n",
       "      <td>139071</td>\n",
       "      <td>6.15</td>\n",
       "    </tr>\n",
       "    <tr>\n",
       "      <th>mo_sin_old_rev_tl_op</th>\n",
       "      <td>70277</td>\n",
       "      <td>3.11</td>\n",
       "    </tr>\n",
       "    <tr>\n",
       "      <th>mo_sin_rcnt_rev_tl_op</th>\n",
       "      <td>70277</td>\n",
       "      <td>3.11</td>\n",
       "    </tr>\n",
       "    <tr>\n",
       "      <th>mo_sin_rcnt_tl</th>\n",
       "      <td>70276</td>\n",
       "      <td>3.11</td>\n",
       "    </tr>\n",
       "    <tr>\n",
       "      <th>mort_acc</th>\n",
       "      <td>50030</td>\n",
       "      <td>2.21</td>\n",
       "    </tr>\n",
       "    <tr>\n",
       "      <th>mths_since_recent_bc</th>\n",
       "      <td>73412</td>\n",
       "      <td>3.25</td>\n",
       "    </tr>\n",
       "    <tr>\n",
       "      <th>num_accts_ever_120_pd</th>\n",
       "      <td>70276</td>\n",
       "      <td>3.11</td>\n",
       "    </tr>\n",
       "    <tr>\n",
       "      <th>num_actv_bc_tl</th>\n",
       "      <td>70276</td>\n",
       "      <td>3.11</td>\n",
       "    </tr>\n",
       "    <tr>\n",
       "      <th>num_actv_rev_tl</th>\n",
       "      <td>70276</td>\n",
       "      <td>3.11</td>\n",
       "    </tr>\n",
       "    <tr>\n",
       "      <th>num_bc_sats</th>\n",
       "      <td>58590</td>\n",
       "      <td>2.59</td>\n",
       "    </tr>\n",
       "    <tr>\n",
       "      <th>num_bc_tl</th>\n",
       "      <td>70276</td>\n",
       "      <td>3.11</td>\n",
       "    </tr>\n",
       "    <tr>\n",
       "      <th>num_il_tl</th>\n",
       "      <td>70276</td>\n",
       "      <td>3.11</td>\n",
       "    </tr>\n",
       "    <tr>\n",
       "      <th>num_op_rev_tl</th>\n",
       "      <td>70276</td>\n",
       "      <td>3.11</td>\n",
       "    </tr>\n",
       "    <tr>\n",
       "      <th>num_rev_accts</th>\n",
       "      <td>70277</td>\n",
       "      <td>3.11</td>\n",
       "    </tr>\n",
       "    <tr>\n",
       "      <th>num_rev_tl_bal_gt_0</th>\n",
       "      <td>70276</td>\n",
       "      <td>3.11</td>\n",
       "    </tr>\n",
       "    <tr>\n",
       "      <th>num_sats</th>\n",
       "      <td>58590</td>\n",
       "      <td>2.59</td>\n",
       "    </tr>\n",
       "    <tr>\n",
       "      <th>num_tl_120dpd_2m</th>\n",
       "      <td>153657</td>\n",
       "      <td>6.80</td>\n",
       "    </tr>\n",
       "    <tr>\n",
       "      <th>num_tl_30dpd</th>\n",
       "      <td>70276</td>\n",
       "      <td>3.11</td>\n",
       "    </tr>\n",
       "    <tr>\n",
       "      <th>num_tl_90g_dpd_24m</th>\n",
       "      <td>70276</td>\n",
       "      <td>3.11</td>\n",
       "    </tr>\n",
       "    <tr>\n",
       "      <th>num_tl_op_past_12m</th>\n",
       "      <td>70276</td>\n",
       "      <td>3.11</td>\n",
       "    </tr>\n",
       "    <tr>\n",
       "      <th>open_acc</th>\n",
       "      <td>29</td>\n",
       "      <td>NaN</td>\n",
       "    </tr>\n",
       "    <tr>\n",
       "      <th>pct_tl_nvr_dlq</th>\n",
       "      <td>70431</td>\n",
       "      <td>3.12</td>\n",
       "    </tr>\n",
       "    <tr>\n",
       "      <th>percent_bc_gt_75</th>\n",
       "      <td>75379</td>\n",
       "      <td>3.33</td>\n",
       "    </tr>\n",
       "    <tr>\n",
       "      <th>pub_rec</th>\n",
       "      <td>29</td>\n",
       "      <td>NaN</td>\n",
       "    </tr>\n",
       "    <tr>\n",
       "      <th>pub_rec_bankruptcies</th>\n",
       "      <td>1365</td>\n",
       "      <td>0.06</td>\n",
       "    </tr>\n",
       "    <tr>\n",
       "      <th>revol_util</th>\n",
       "      <td>1802</td>\n",
       "      <td>0.08</td>\n",
       "    </tr>\n",
       "    <tr>\n",
       "      <th>tax_liens</th>\n",
       "      <td>105</td>\n",
       "      <td>NaN</td>\n",
       "    </tr>\n",
       "    <tr>\n",
       "      <th>title</th>\n",
       "      <td>23325</td>\n",
       "      <td>1.03</td>\n",
       "    </tr>\n",
       "    <tr>\n",
       "      <th>tot_coll_amt</th>\n",
       "      <td>70276</td>\n",
       "      <td>3.11</td>\n",
       "    </tr>\n",
       "    <tr>\n",
       "      <th>tot_cur_bal</th>\n",
       "      <td>70276</td>\n",
       "      <td>3.11</td>\n",
       "    </tr>\n",
       "    <tr>\n",
       "      <th>tot_hi_cred_lim</th>\n",
       "      <td>70276</td>\n",
       "      <td>3.11</td>\n",
       "    </tr>\n",
       "    <tr>\n",
       "      <th>total_acc</th>\n",
       "      <td>29</td>\n",
       "      <td>NaN</td>\n",
       "    </tr>\n",
       "    <tr>\n",
       "      <th>total_bal_ex_mort</th>\n",
       "      <td>50030</td>\n",
       "      <td>2.21</td>\n",
       "    </tr>\n",
       "    <tr>\n",
       "      <th>total_bc_limit</th>\n",
       "      <td>50030</td>\n",
       "      <td>2.21</td>\n",
       "    </tr>\n",
       "    <tr>\n",
       "      <th>total_il_high_credit_limit</th>\n",
       "      <td>70276</td>\n",
       "      <td>3.11</td>\n",
       "    </tr>\n",
       "    <tr>\n",
       "      <th>total_rev_hi_lim</th>\n",
       "      <td>70276</td>\n",
       "      <td>3.11</td>\n",
       "    </tr>\n",
       "    <tr>\n",
       "      <th>zip_code</th>\n",
       "      <td>1</td>\n",
       "      <td>NaN</td>\n",
       "    </tr>\n",
       "  </tbody>\n",
       "</table>\n",
       "</div>"
      ],
      "text/plain": [
       "                             Total  Percent\n",
       "acc_now_delinq                  29      NaN\n",
       "acc_open_past_24mths         50030     2.21\n",
       "annual_inc                       4      NaN\n",
       "avg_cur_bal                  70346     3.11\n",
       "bc_open_to_buy               74935     3.31\n",
       "bc_util                      76071     3.36\n",
       "chargeoff_within_12_mths       145     0.01\n",
       "collections_12_mths_ex_med     145     0.01\n",
       "delinq_2yrs                     29      NaN\n",
       "delinq_amnt                     29      NaN\n",
       "dti                           1711     0.08\n",
       "earliest_cr_line                29      NaN\n",
       "emp_length                  146907     6.50\n",
       "emp_title                   166969     7.39\n",
       "inq_last_6mths                  30      NaN\n",
       "last_credit_pull_d              73      NaN\n",
       "last_pymnt_d                  2426     0.11\n",
       "mo_sin_old_il_acct          139071     6.15\n",
       "mo_sin_old_rev_tl_op         70277     3.11\n",
       "mo_sin_rcnt_rev_tl_op        70277     3.11\n",
       "mo_sin_rcnt_tl               70276     3.11\n",
       "mort_acc                     50030     2.21\n",
       "mths_since_recent_bc         73412     3.25\n",
       "num_accts_ever_120_pd        70276     3.11\n",
       "num_actv_bc_tl               70276     3.11\n",
       "num_actv_rev_tl              70276     3.11\n",
       "num_bc_sats                  58590     2.59\n",
       "num_bc_tl                    70276     3.11\n",
       "num_il_tl                    70276     3.11\n",
       "num_op_rev_tl                70276     3.11\n",
       "num_rev_accts                70277     3.11\n",
       "num_rev_tl_bal_gt_0          70276     3.11\n",
       "num_sats                     58590     2.59\n",
       "num_tl_120dpd_2m            153657     6.80\n",
       "num_tl_30dpd                 70276     3.11\n",
       "num_tl_90g_dpd_24m           70276     3.11\n",
       "num_tl_op_past_12m           70276     3.11\n",
       "open_acc                        29      NaN\n",
       "pct_tl_nvr_dlq               70431     3.12\n",
       "percent_bc_gt_75             75379     3.33\n",
       "pub_rec                         29      NaN\n",
       "pub_rec_bankruptcies          1365     0.06\n",
       "revol_util                    1802     0.08\n",
       "tax_liens                      105      NaN\n",
       "title                        23325     1.03\n",
       "tot_coll_amt                 70276     3.11\n",
       "tot_cur_bal                  70276     3.11\n",
       "tot_hi_cred_lim              70276     3.11\n",
       "total_acc                       29      NaN\n",
       "total_bal_ex_mort            50030     2.21\n",
       "total_bc_limit               50030     2.21\n",
       "total_il_high_credit_limit   70276     3.11\n",
       "total_rev_hi_lim             70276     3.11\n",
       "zip_code                         1      NaN"
      ]
     },
     "execution_count": 8,
     "metadata": {},
     "output_type": "execute_result"
    }
   ],
   "source": [
    "missing_percentage(data_cl)"
   ]
  },
  {
   "cell_type": "markdown",
   "metadata": {},
   "source": [
    "Now that we have a cleaner dataset, we can look through each of the features and see how they may be of use to our classification problem."
   ]
  },
  {
   "cell_type": "markdown",
   "metadata": {},
   "source": [
    "### Target Feature: loan_status\n",
    "This feature describes the current status of the loan, and will be the primary way that we can classify the loans. We will exclude all classifications other than Fully Paid and Charged off, in order to have a binary classification problem. We will use LabelEncoder to classify Fully Paid as 1 and Charged off as 0."
   ]
  },
  {
   "cell_type": "code",
   "execution_count": 9,
   "metadata": {},
   "outputs": [
    {
     "data": {
      "text/plain": [
       "Fully Paid                                             1041952\n",
       "Current                                                 919695\n",
       "Charged Off                                             261655\n",
       "Late (31-120 days)                                       21897\n",
       "In Grace Period                                           8952\n",
       "Late (16-30 days)                                         3737\n",
       "Does not meet the credit policy. Status:Fully Paid        1988\n",
       "Does not meet the credit policy. Status:Charged Off        761\n",
       "Default                                                     31\n",
       "Name: loan_status, dtype: int64"
      ]
     },
     "execution_count": 9,
     "metadata": {},
     "output_type": "execute_result"
    },
    {
     "data": {
      "image/png": "[encoded data removed]",
      "text/plain": [
       "<matplotlib.figure.Figure at 0x117171ba8>"
      ]
     },
     "metadata": {},
     "output_type": "display_data"
    }
   ],
   "source": [
    "data_cl['loan_status'].value_counts().plot('barh', figsize=(15,5))\n",
    "plt.title('Loan Status 2007-2015', size=15)\n",
    "data_cl['loan_status'].value_counts()"
   ]
  },
  {
   "cell_type": "code",
   "execution_count": 10,
   "metadata": {},
   "outputs": [],
   "source": [
    "data_cl = data_cl[(data_cl['loan_status'] == 'Fully Paid') | (data_cl['loan_status'] == 'Charged Off')]\n",
    "lab_enc = LabelEncoder()\n",
    "data_cl.iloc[:,14] = lab_enc.fit_transform(data_cl.iloc[:,14])"
   ]
  },
  {
   "cell_type": "markdown",
   "metadata": {},
   "source": [
    "### Data Visualization:\n",
    "Lets create some graphs to get a better sense of how our data is distributed and correlated."
   ]
  },
  {
   "cell_type": "code",
   "execution_count": 11,
   "metadata": {},
   "outputs": [
    {
     "data": {
      "text/plain": [
       "Text(0.5,0,'Number of loans')"
      ]
     },
     "execution_count": 11,
     "metadata": {},
     "output_type": "execute_result"
    },
    {
     "data": {
      "image/png": "[encoded data removed]",
      "text/plain": [
       "<matplotlib.figure.Figure at 0x117542438>"
      ]
     },
     "metadata": {},
     "output_type": "display_data"
    }
   ],
   "source": [
    "data_cl['loan_status'].value_counts().plot('barh', figsize=(15,5))\n",
    "plt.grid(b=None)\n",
    "plt.title('Loan Status 2007-2015', size=15)\n",
    "plt.xlabel('Number of loans', fontsize=15)"
   ]
  },
  {
   "cell_type": "markdown",
   "metadata": {},
   "source": [
    "From this chart we can see that there are clearly a lot more fully paid loans, than charged off loans. This information is good to know as it informs us of a class imbalance issue that we must deal with before creating the model. \n"
   ]
  },
  {
   "cell_type": "code",
   "execution_count": 12,
   "metadata": {},
   "outputs": [
    {
     "data": {
      "text/plain": [
       "Text(0.5,0,'Purpose of loan')"
      ]
     },
     "execution_count": 12,
     "metadata": {},
     "output_type": "execute_result"
    },
    {
     "data": {
      "image/png": "[encoded data removed]",
      "text/plain": [
       "<matplotlib.figure.Figure at 0x117171f60>"
      ]
     },
     "metadata": {},
     "output_type": "display_data"
    }
   ],
   "source": [
    "data_cl['purpose'].value_counts().plot('bar', figsize=(15,10))\n",
    "plt.grid(b=None)\n",
    "plt.title('# of Loans by Purpose', size=20)\n",
    "plt.ylabel('Number of loans', size=15)\n",
    "plt.xlabel('Purpose of loan', size=15)"
   ]
  },
  {
   "cell_type": "markdown",
   "metadata": {},
   "source": [
    "This chart gives us some context about the loans and why people are going to LC for a loan. The clear majority of loans are being used for debt consolidation and to repay credit cards. This is good to know and may help explain some of the reasons why people may not be able to pay back their loans (too much debt, cannot afford the loan even if it was an attempt to pay down or consolidate existing debt.)."
   ]
  },
  {
   "cell_type": "code",
   "execution_count": 13,
   "metadata": {},
   "outputs": [
    {
     "data": {
      "text/plain": [
       "Text(0.5,1,'Interest Rate distribution')"
      ]
     },
     "execution_count": 13,
     "metadata": {},
     "output_type": "execute_result"
    },
    {
     "data": {
      "image/png": "[encoded data removed]",
      "text/plain": [
       "<matplotlib.figure.Figure at 0x1175edcc0>"
      ]
     },
     "metadata": {},
     "output_type": "display_data"
    }
   ],
   "source": [
    "plt.figure(figsize=(10,10))\n",
    "sns.distplot(data_cl.int_rate)\n",
    "plt.ylabel('Frequency')\n",
    "plt.title('Interest Rate distribution')"
   ]
  },
  {
   "cell_type": "markdown",
   "metadata": {},
   "source": [
    "We can see from the rate distribution, that all rates are within a range of roughly 5% to 32%, with the majority falling between 10% and 15%. These rates are pretty high, and can help explain why some borrowers might fail to pay back thier loan. "
   ]
  },
  {
   "cell_type": "code",
   "execution_count": 14,
   "metadata": {},
   "outputs": [
    {
     "data": {
      "text/plain": [
       "Text(0.5,1,'Interest Rate Boxplot by Grade')"
      ]
     },
     "execution_count": 14,
     "metadata": {},
     "output_type": "execute_result"
    },
    {
     "data": {
      "image/png": "[encoded data removed]",
      "text/plain": [
       "<matplotlib.figure.Figure at 0x117d6f358>"
      ]
     },
     "metadata": {},
     "output_type": "display_data"
    }
   ],
   "source": [
    "plt.figure(figsize=(10,10))\n",
    "sns.boxplot(x=data_cl['grade'],y=data_cl['int_rate'], order=['A','B','C','D','E','F','G'])\n",
    "plt.title('Interest Rate Boxplot by Grade')"
   ]
  },
  {
   "cell_type": "markdown",
   "metadata": {},
   "source": [
    "Looking at the box plot above, we can see that there are some outliers that exist for each grade, and there is a clear linear relationship between interest rate and grade. "
   ]
  },
  {
   "cell_type": "code",
   "execution_count": 15,
   "metadata": {},
   "outputs": [
    {
     "data": {
      "text/plain": [
       "Text(0.5,0,'Employment Length')"
      ]
     },
     "execution_count": 15,
     "metadata": {},
     "output_type": "execute_result"
    },
    {
     "data": {
      "image/png": "[encoded data removed]",
      "text/plain": [
       "<matplotlib.figure.Figure at 0x117d493c8>"
      ]
     },
     "metadata": {},
     "output_type": "display_data"
    }
   ],
   "source": [
    "data_cl['emp_length'].value_counts().plot('bar', figsize=(15,10))\n",
    "plt.grid(b=None)\n",
    "plt.title('# of Loans by Employment Length', size=20)\n",
    "plt.ylabel('Number of loans', size=15)\n",
    "plt.xlabel('Employment Length', size=15)\n"
   ]
  },
  {
   "cell_type": "markdown",
   "metadata": {},
   "source": [
    "We can see that the largest amount of loans corresponding to employment length is for those who work 10 years or more. The next few categories are 2,3, and < 1 year, which may be correlated to the loans which defaulted. <br>"
   ]
  },
  {
   "cell_type": "markdown",
   "metadata": {},
   "source": [
    "## Feature Investigation & Enigineering:\n",
    "Now lets look at the features and go through each of them to see which may be most useful, which are redundant (correlated), and which need to be encoded (categorical)."
   ]
  },
  {
   "cell_type": "markdown",
   "metadata": {},
   "source": [
    "#### Analyzing the features:\n",
    "The dataset has an accompanying excel file that provides descriptions for each of the given features. To simplify the classification problem, lets assess each of the given features and just do a quick thought exercise for each feature and its potential usefulness (20-30mins).\n",
    " - loan_amnt: The listed amount of the loan applied for by the borrower. If at some point in time, the credit department reduces the loan amount, then it will be reflected in this value. **This feature seems like it will be one of the more important features to consider.**\n",
    " - funded_amnt: The total amount committed to that loan at that point in time. **This feature looks to be a repeat of loan_amnt, perhaps we can remove it.**\n",
    " - funded_amnt_inv: The total amount committed by investors for that loan at that point in time. **This feature again should match up with loan_amnt and reflect similar information.**\n",
    " - term: The number of payments on the loan. Values are in months and can be either 36 or 60. **Most likely useful.**\n",
    " - int_rate: Interest Rate on the loan. **Most likely useful, but may also be reflected in the grade.**\n",
    " - installment: The monthly payment owed by the borrower if the loan originates. **Most likely useful.**\n",
    " - grade: LC assigned loan grade. **Correlated with rate.**\n",
    " - sub_grade: LC assigned loan subgrade. **May also repeat info like grade/rate.**\n",
    " - emp_title: The job title supplied by the Borrower when applying for the loan. **May be interesting to explore, potenially useful.**\n",
    " - emp_length: Employment length in years. Possible values are between 0 and 10 where 0 means less than one year and 10 means ten or more years. **Potentially useful, although annual income is probably a better indicator.**\n",
    " - home_ownership: The home ownership status provided by the borrower during registration or obtained from the credit report. Our values are: RENT, OWN, MORTGAGE, OTHER **Probably useful.**\n",
    " - annual_inc: The self-reported annual income provided by the borrower during registration. **Definitely useful.**\n",
    " - verification_status: Indicates if income was verified by LC, not verified, or if the income source was verified. **Probably useful as it helps determine credibility of the borrower.**\n",
    " - issue_d: The month which the loan was funded. **Not immediately apparent how this can be of help.**\n",
    " - pymnt_plan: Indicates if a payment plan has been put in place for the loan. **This can be helpful.**\n",
    " - purpose: A category provided by the borrower for the loan request. **Important to know for classification.**\n",
    " - title: The loan title provided by the borrower. **Again may be useful.**\n",
    " - zip_code: The first 3 numbers of the zip code provided by the borrower in the loan application. **Not full zip code, so it will not help us much.**\n",
    " - addr_state: The state provided by the borrower in the loan application. **Definitely useful.**\n",
    " - dti: A ratio calculated using the borrower’s total monthly debt payments on the total debt obligations, excluding mortgage and the requested LC loan, divided by the borrower’s self-reported monthly income. **Definitely useful.**\n",
    " - delinq_2yrs: The number of 30+ days past-due incidences of delinquency in the borrower's credit file for the past 2 years. **Useful.**\n",
    " - earlist_cr_line: The month the borrower's earliest reported credit line was opened. **Maybe useful.**\n",
    " - inq_last_6mths: The number of inquiries in past 6 months (excluding auto and mortgage inquiries) **Maybe useful.**\n",
    " - open_acc: The number of open credit lines in the borrower's credit file. **Useful.**\n",
    " - pub_rec: Number of derogatory public records. **Useful.**\n",
    " - revol_bal: Total credit revolving balance. **Unsure if it will be useful but lets see.**\n",
    " - revol_util: Revolving line utilization rate, or the amount of credit the borrower is using relative to all available revolving credit. **Unsure if it will be useful but lets see.**\n",
    " - total_acc: The total number of credit lines currently in the borrower's credit file. **Maybe useful.**\n",
    " - initial_list_status: The initial listing status of the loan. Possible values are – W, F. **Unsure if useful.**\n",
    " - out_prncp: Remaining outstanding principal for total amount funded. **Not useful, provides future information.**\n",
    " - out_prncp_inv: Remaining outstanding principal for portion of total amount funded by investors. **Not useful, provides future information.**\n",
    " - total_pymnt: Payments received to date for total amount funded. **Not useful, future info.**\n",
    " - total_pymnt_inv: Payments received to date for portion of total amount funded by investors. **Not useful, future info.**\n",
    " - total_rec_prncp: Principal received to date. **Not useful, future info.**\n",
    " - total_rec_int: Interest received to date. **Not useful, future info.**\n",
    " - total_rec_late_fee: Late fees received to date. **Not useful, future info.**\n",
    " - recoveries: post charge off gross recovery. **Not useful, future info.**\n",
    " - collection_recovery_fee: post charge off collection fee. **Not useful, future info.**\n",
    " - last_pymnt_d: Last month payment was received. **Not useful, future info.**\n",
    " - last_pymnt_amnt: Last total payment amount received. **Not useful, future info.**\n",
    " - last_credit_pull_d: The most recent month LC pulled credit for this loan. **Unsure**\n",
    " - collections_12_mths_ex_med: Number of collections in 12 months excluding medical collections **Unsure.**\n",
    " - policy_code:publicly available policy_code=1, new products not publicly available policy_code=2 **Unsure.**\n",
    " - application_type: Indicates whether the loan is an individual application or a joint application with two co-borrowers. **Useful.**\n",
    " - acc_now_delinq: The number of accounts on which the borrower is now delinquent. **Useful.**\n",
    " - tot_coll_amt: Total collection amounts ever owed. **Not useful, possible future info.**\n",
    " - tot_cur_bal: Total current balance of all accounts. **Not useful, future info.**\n",
    " - total_rev_hi_lim: Total revolving high credit/credit limit. **Unsure, possibly not useful.**\n",
    " - acc_open_past_24mths: Number of trades opened in past 24 months. **Unsure, possibly not useful.**\n",
    " - avg_cur_bal: Average current balance of all accounts . **Unsure, possibly not useful.**\n",
    " - bc_open_to_buy: Total open to buy on revolving bankcards. **Unsure**\n",
    " - bc_util: Ratio of total current balance to high credit/credit limit for all bankcard accounts. **Unsure**\n",
    " - chargeoff_within_12_mths: Number of charge-offs within 12 months **Possibly useful**\n",
    " - delinq_amnt: The past-due amount owed for the accounts on which the borrower is now delinquent. **Possibly Useful**\n",
    " - mo_sin_old_il_acct: Months since oldest bank installment account opened **Unsure.**\n",
    " - mo_sin_old_rev_tl_op: Months since oldest revolving account opened **Unsure**\n",
    " - mo_sin_rcnt_rev_tl_op: Months since most recent revolving account opened **Unsure**\n",
    " - mo_sin_rcnt_tl: Months since most recent account opened **Unsure**\n",
    " - mort_acc: Number of mortgage accounts. **Useful**\n",
    " - mths_since_recent_bc: Months since most recent bankcard account opened. **Unsure**\n",
    " - num_accts_ever_120_pd: Number of accounts ever 120 or more days past due **Possibly useful**\n",
    " - num_actv_bc_tl: Number of currently active bankcard accounts. **Possible future info**\n",
    " - num_actv_rev_tl: Number of currently active revolving trades **Possible future info**\n",
    " - num_bc_sats: Number of satisfactory bankcard accounts **Useful**\n",
    " - num_bc_tl: Number of bankcard accounts **Useful**\n",
    " - num_il_tl: Number of installment accounts **Useful**\n",
    " - num_op_rev_tl: Number of open revolving accounts **Useful**\n",
    " - num_rev_accts: Number of revolving accounts **Useful**\n",
    " - num_rev_tl_bal_gt_0: Number of revolving trades with balance >0 **Useful**\n",
    " - num_sats: Number of satisfactory accounts **Useful**\n",
    " - num_tl_120dpd_2m: Number of accounts currently 120 days past due (updated in past 2 months) **Future info**\n",
    " - num_tl_30dpd: Number of accounts currently 30 days past due (updated in past 2 months) **Future info**\n",
    " - num_tl_90g_dpd_24m: Number of accounts 90 or more days past due in last 24 months **Possibly useful**\n",
    " - num_tl_op_past_12m: Number of accounts opened in past 12 months **Possibly useful**\n",
    " - pct_tl_nvr_dlq: Percent of trades never delinquent **Possibly useful**\n",
    " - percent_bc_gt_75: Percentage of all bankcard accounts > 75% of limit. **Possibly useful**\n",
    " - pub_rec_bankruptcies: Number of public record bankruptcies **Useful**\n",
    " - tax_liens: Number of tax liens **Useful**\n",
    " - tot_hi_cred_lim: Total high credit/credit limit **Possibly useful**\n",
    " - total_bal_ex_mort: Total credit balance excluding mortgage **Possibly useful**\n",
    " - total_bc_limit: Total bankcard high credit/credit limit **Possibly useful**\n",
    " - total_il_high_credit_limit: Total installment high credit/credit limit **Possibly useful**\n",
    " - hardship_flag: Flags whether or not the borrower is on a hardship plan **Useful**\n",
    " - disbursement_method: The method by which the borrower receives their loan. Possible values are: CASH, DIRECT_PAY **Does not seem to be that helpful**\n",
    " - debt_settlement_flag: Flags whether or not the borrower, who has charged-off, is working with a debt-settlement company. **Not useful, future info**\n",
    " \n",
    " \n",
    "Now lets drop the columns that appear to have future info and that may not be helpful with our analysis, as we can always go back and add them later, however, lets keep in mind that simplification of our model is ideal."
   ]
  },
  {
   "cell_type": "code",
   "execution_count": 16,
   "metadata": {},
   "outputs": [],
   "source": [
    "# Features that give future information:\n",
    "drop_cols = ['funded_amnt', 'funded_amnt_inv','emp_title', 'zip_code','out_prncp', 'out_prncp_inv', \n",
    "             'total_pymnt', 'total_pymnt_inv', 'total_rec_prncp', 'total_rec_int', 'total_rec_late_fee', 'recoveries', \n",
    "             'collection_recovery_fee', 'last_pymnt_d', 'last_pymnt_amnt','tot_coll_amt','tot_cur_bal',\n",
    "            'debt_settlement_flag','num_tl_120dpd_2m','num_tl_30dpd','num_actv_bc_tl','num_actv_rev_tl',\n",
    "             'disbursement_method','mo_sin_old_il_acct']\n",
    "data_cl.drop(drop_cols, axis=1, inplace=True)"
   ]
  },
  {
   "cell_type": "markdown",
   "metadata": {},
   "source": [
    "Now lets also look through the columns and keep only those that Lending Club says investors have access to at the time of initial loan investment. "
   ]
  },
  {
   "cell_type": "code",
   "execution_count": 17,
   "metadata": {},
   "outputs": [],
   "source": [
    "# Features that are not available to investors:\n",
    "drop_cols_a = ['pymnt_plan', 'delinq_2yrs', 'inq_last_6mths', 'last_credit_pull_d', 'collections_12_mths_ex_med', \n",
    "               'policy_code', 'acc_now_delinq', 'total_rev_hi_lim', 'acc_open_past_24mths', 'avg_cur_bal', \n",
    "               'bc_open_to_buy', 'bc_util', 'chargeoff_within_12_mths', 'delinq_amnt', 'mo_sin_old_rev_tl_op', \n",
    "               'mo_sin_rcnt_rev_tl_op', 'mo_sin_rcnt_tl', 'mths_since_recent_bc', 'num_accts_ever_120_pd', \n",
    "               'num_bc_sats', 'num_bc_tl', 'num_il_tl', 'num_op_rev_tl', 'num_rev_accts', 'num_rev_tl_bal_gt_0', \n",
    "               'num_sats', 'num_tl_90g_dpd_24m', 'num_tl_op_past_12m', 'pct_tl_nvr_dlq', 'percent_bc_gt_75', \n",
    "               'tax_liens', 'tot_hi_cred_lim', 'total_bal_ex_mort', 'total_bc_limit', 'total_il_high_credit_limit', \n",
    "               'hardship_flag']\n",
    "data_cl.drop(drop_cols_a, axis=1, inplace=True)"
   ]
  },
  {
   "cell_type": "markdown",
   "metadata": {},
   "source": [
    "## Feature Engineering:\n",
    "Lets analyze each of the categorical features and see how we can encode them:\n",
    " - **term:** either 36 or 60 months (No ordering.)\n",
    " - **grade:** A-G, (Natural ordering.)\n",
    " - **sub_grade:** 35 different classes (Natural ordering.)\n",
    " - **emp_length:** <1 yr - 10+ yrs (Natural ordering, salary should increase with more years of experience.)\n",
    " - **home_ownership:** OWN, RENT, MORTGAGE, ANY, NONE, OTHER (No ordering.)\n",
    " - **verification_status:** Source Verified, Verified, Not Verified (No ordering.)\n",
    " - **addr_state:** 51 options (No ordering.)\n",
    " - **purpose:** 14 different options (No ordering.)\n",
    " - **title:** Too many values, we will just remove this.\n",
    " - **addr_state:** 51 States, will add too many features, we will remove this as well.\n",
    " - **earliest_cr_line:** Date, we will convert this into integers.\n",
    " - **initial_list_status:** Fractional or Whole (Natural ordering.)\n",
    " - **application_type:** Joint App or Individual (Natural ordering, joint applications often qualify more.)\n",
    " \n",
    "\n",
    "\n",
    "Lets first convert earliest_cr_line and last_credit_pull_d to integers, and remove the title feature. And then use LabelEncoder for the natural ordering variables. Finally we will use get_dummies for the variables in which ordering does not matter."
   ]
  },
  {
   "cell_type": "code",
   "execution_count": 18,
   "metadata": {},
   "outputs": [],
   "source": [
    "data_cl['issue_d'] = pd.to_datetime(data_cl['issue_d']) \n",
    "data_cl['issue_d'] = data_cl['issue_d'].map(dt.datetime.toordinal)\n",
    "\n",
    "data_cl['earliest_cr_line'] = pd.to_datetime(data_cl['earliest_cr_line']) \n",
    "data_cl['earliest_cr_line'] = data_cl['earliest_cr_line'].map(dt.datetime.toordinal)"
   ]
  },
  {
   "cell_type": "code",
   "execution_count": 19,
   "metadata": {},
   "outputs": [],
   "source": [
    "data_cl.drop(['title'], axis=1, inplace=True)"
   ]
  },
  {
   "cell_type": "code",
   "execution_count": 20,
   "metadata": {},
   "outputs": [],
   "source": [
    "emp_map = {\n",
    "    'emp_length': {\n",
    "        '10+ years': 10,\n",
    "        '9 years': 9,\n",
    "        '8 years': 8,\n",
    "        '7 years': 7,\n",
    "        '6 years': 6,\n",
    "        '5 years': 5,\n",
    "        '4 years': 4,\n",
    "        '3 years': 3,\n",
    "        '2 years': 2,\n",
    "        '1 year': 1,\n",
    "        '< 1 year': 0,\n",
    "        'n/a': 0\n",
    "    }\n",
    "}\n",
    "\n",
    "data_cl.replace(emp_map, inplace=True)"
   ]
  },
  {
   "cell_type": "code",
   "execution_count": 21,
   "metadata": {},
   "outputs": [],
   "source": [
    "le_feat = ['grade', 'sub_grade', 'initial_list_status', \n",
    "                     'application_type']\n",
    "\n",
    "for i in le_feat:\n",
    "    le = LabelEncoder()\n",
    "    data_cl[i] = le.fit_transform(data_cl[i])\n",
    "    "
   ]
  },
  {
   "cell_type": "code",
   "execution_count": 22,
   "metadata": {},
   "outputs": [],
   "source": [
    "dummy_feat = ['term', 'home_ownership', 'verification_status', 'purpose', 'addr_state']\n",
    "\n",
    "for i in dummy_feat:\n",
    "    temp = pd.get_dummies(data_cl[i])\n",
    "    data_cl = pd.concat([data_cl, temp], axis=1)\n",
    "    data_cl.drop(i, axis=1, inplace=True)    "
   ]
  },
  {
   "cell_type": "code",
   "execution_count": 23,
   "metadata": {},
   "outputs": [
    {
     "data": {
      "text/html": [
       "<div>\n",
       "<style scoped>\n",
       "    .dataframe tbody tr th:only-of-type {\n",
       "        vertical-align: middle;\n",
       "    }\n",
       "\n",
       "    .dataframe tbody tr th {\n",
       "        vertical-align: top;\n",
       "    }\n",
       "\n",
       "    .dataframe thead th {\n",
       "        text-align: right;\n",
       "    }\n",
       "</style>\n",
       "<table border=\"1\" class=\"dataframe\">\n",
       "  <thead>\n",
       "    <tr style=\"text-align: right;\">\n",
       "      <th></th>\n",
       "      <th>Total</th>\n",
       "      <th>Percent</th>\n",
       "    </tr>\n",
       "  </thead>\n",
       "  <tbody>\n",
       "    <tr>\n",
       "      <th>emp_length</th>\n",
       "      <td>75454</td>\n",
       "      <td>5.79</td>\n",
       "    </tr>\n",
       "    <tr>\n",
       "      <th>mort_acc</th>\n",
       "      <td>47281</td>\n",
       "      <td>3.63</td>\n",
       "    </tr>\n",
       "    <tr>\n",
       "      <th>revol_util</th>\n",
       "      <td>810</td>\n",
       "      <td>0.06</td>\n",
       "    </tr>\n",
       "    <tr>\n",
       "      <th>pub_rec_bankruptcies</th>\n",
       "      <td>697</td>\n",
       "      <td>0.05</td>\n",
       "    </tr>\n",
       "    <tr>\n",
       "      <th>dti</th>\n",
       "      <td>312</td>\n",
       "      <td>0.02</td>\n",
       "    </tr>\n",
       "  </tbody>\n",
       "</table>\n",
       "</div>"
      ],
      "text/plain": [
       "                      Total  Percent\n",
       "emp_length            75454     5.79\n",
       "mort_acc              47281     3.63\n",
       "revol_util              810     0.06\n",
       "pub_rec_bankruptcies    697     0.05\n",
       "dti                     312     0.02"
      ]
     },
     "execution_count": 23,
     "metadata": {},
     "output_type": "execute_result"
    }
   ],
   "source": [
    "missing_percentage(data_cl)"
   ]
  },
  {
   "cell_type": "code",
   "execution_count": 24,
   "metadata": {},
   "outputs": [],
   "source": [
    "missing_vals = ['emp_length','mort_acc','revol_util','pub_rec_bankruptcies','dti']\n",
    "\n",
    "for i in missing_vals:\n",
    "    data_cl[i].fillna(value=data_cl[i].mean(), inplace=True)"
   ]
  },
  {
   "cell_type": "code",
   "execution_count": 25,
   "metadata": {},
   "outputs": [
    {
     "data": {
      "text/html": [
       "<div>\n",
       "<style scoped>\n",
       "    .dataframe tbody tr th:only-of-type {\n",
       "        vertical-align: middle;\n",
       "    }\n",
       "\n",
       "    .dataframe tbody tr th {\n",
       "        vertical-align: top;\n",
       "    }\n",
       "\n",
       "    .dataframe thead th {\n",
       "        text-align: right;\n",
       "    }\n",
       "</style>\n",
       "<table border=\"1\" class=\"dataframe\">\n",
       "  <thead>\n",
       "    <tr style=\"text-align: right;\">\n",
       "      <th></th>\n",
       "      <th>loan_amnt</th>\n",
       "      <th>int_rate</th>\n",
       "      <th>installment</th>\n",
       "      <th>grade</th>\n",
       "      <th>sub_grade</th>\n",
       "      <th>emp_length</th>\n",
       "      <th>annual_inc</th>\n",
       "      <th>issue_d</th>\n",
       "      <th>loan_status</th>\n",
       "      <th>dti</th>\n",
       "      <th>...</th>\n",
       "      <th>SD</th>\n",
       "      <th>TN</th>\n",
       "      <th>TX</th>\n",
       "      <th>UT</th>\n",
       "      <th>VA</th>\n",
       "      <th>VT</th>\n",
       "      <th>WA</th>\n",
       "      <th>WI</th>\n",
       "      <th>WV</th>\n",
       "      <th>WY</th>\n",
       "    </tr>\n",
       "  </thead>\n",
       "  <tbody>\n",
       "    <tr>\n",
       "      <th>100</th>\n",
       "      <td>30000</td>\n",
       "      <td>22.35</td>\n",
       "      <td>1151.16</td>\n",
       "      <td>3</td>\n",
       "      <td>19</td>\n",
       "      <td>5.0</td>\n",
       "      <td>100000.0</td>\n",
       "      <td>737029</td>\n",
       "      <td>1</td>\n",
       "      <td>30.46</td>\n",
       "      <td>...</td>\n",
       "      <td>0</td>\n",
       "      <td>0</td>\n",
       "      <td>0</td>\n",
       "      <td>0</td>\n",
       "      <td>0</td>\n",
       "      <td>0</td>\n",
       "      <td>0</td>\n",
       "      <td>0</td>\n",
       "      <td>0</td>\n",
       "      <td>0</td>\n",
       "    </tr>\n",
       "    <tr>\n",
       "      <th>152</th>\n",
       "      <td>40000</td>\n",
       "      <td>16.14</td>\n",
       "      <td>975.71</td>\n",
       "      <td>2</td>\n",
       "      <td>13</td>\n",
       "      <td>0.0</td>\n",
       "      <td>45000.0</td>\n",
       "      <td>737029</td>\n",
       "      <td>1</td>\n",
       "      <td>50.53</td>\n",
       "      <td>...</td>\n",
       "      <td>0</td>\n",
       "      <td>0</td>\n",
       "      <td>0</td>\n",
       "      <td>0</td>\n",
       "      <td>0</td>\n",
       "      <td>0</td>\n",
       "      <td>0</td>\n",
       "      <td>0</td>\n",
       "      <td>0</td>\n",
       "      <td>0</td>\n",
       "    </tr>\n",
       "    <tr>\n",
       "      <th>170</th>\n",
       "      <td>20000</td>\n",
       "      <td>7.56</td>\n",
       "      <td>622.68</td>\n",
       "      <td>0</td>\n",
       "      <td>2</td>\n",
       "      <td>10.0</td>\n",
       "      <td>100000.0</td>\n",
       "      <td>737029</td>\n",
       "      <td>1</td>\n",
       "      <td>18.92</td>\n",
       "      <td>...</td>\n",
       "      <td>0</td>\n",
       "      <td>0</td>\n",
       "      <td>0</td>\n",
       "      <td>0</td>\n",
       "      <td>0</td>\n",
       "      <td>0</td>\n",
       "      <td>1</td>\n",
       "      <td>0</td>\n",
       "      <td>0</td>\n",
       "      <td>0</td>\n",
       "    </tr>\n",
       "    <tr>\n",
       "      <th>186</th>\n",
       "      <td>4500</td>\n",
       "      <td>11.31</td>\n",
       "      <td>147.99</td>\n",
       "      <td>1</td>\n",
       "      <td>7</td>\n",
       "      <td>10.0</td>\n",
       "      <td>38500.0</td>\n",
       "      <td>737029</td>\n",
       "      <td>1</td>\n",
       "      <td>4.64</td>\n",
       "      <td>...</td>\n",
       "      <td>0</td>\n",
       "      <td>0</td>\n",
       "      <td>1</td>\n",
       "      <td>0</td>\n",
       "      <td>0</td>\n",
       "      <td>0</td>\n",
       "      <td>0</td>\n",
       "      <td>0</td>\n",
       "      <td>0</td>\n",
       "      <td>0</td>\n",
       "    </tr>\n",
       "    <tr>\n",
       "      <th>215</th>\n",
       "      <td>8425</td>\n",
       "      <td>27.27</td>\n",
       "      <td>345.18</td>\n",
       "      <td>4</td>\n",
       "      <td>24</td>\n",
       "      <td>3.0</td>\n",
       "      <td>450000.0</td>\n",
       "      <td>737029</td>\n",
       "      <td>1</td>\n",
       "      <td>12.37</td>\n",
       "      <td>...</td>\n",
       "      <td>0</td>\n",
       "      <td>0</td>\n",
       "      <td>0</td>\n",
       "      <td>0</td>\n",
       "      <td>0</td>\n",
       "      <td>0</td>\n",
       "      <td>0</td>\n",
       "      <td>0</td>\n",
       "      <td>0</td>\n",
       "      <td>0</td>\n",
       "    </tr>\n",
       "  </tbody>\n",
       "</table>\n",
       "<p>5 rows × 96 columns</p>\n",
       "</div>"
      ],
      "text/plain": [
       "     loan_amnt  int_rate  installment  grade  sub_grade  emp_length  \\\n",
       "100      30000     22.35      1151.16      3         19         5.0   \n",
       "152      40000     16.14       975.71      2         13         0.0   \n",
       "170      20000      7.56       622.68      0          2        10.0   \n",
       "186       4500     11.31       147.99      1          7        10.0   \n",
       "215       8425     27.27       345.18      4         24         3.0   \n",
       "\n",
       "     annual_inc  issue_d  loan_status    dti ...  SD  TN  TX  UT  VA  VT  WA  \\\n",
       "100    100000.0   737029            1  30.46 ...   0   0   0   0   0   0   0   \n",
       "152     45000.0   737029            1  50.53 ...   0   0   0   0   0   0   0   \n",
       "170    100000.0   737029            1  18.92 ...   0   0   0   0   0   0   1   \n",
       "186     38500.0   737029            1   4.64 ...   0   0   1   0   0   0   0   \n",
       "215    450000.0   737029            1  12.37 ...   0   0   0   0   0   0   0   \n",
       "\n",
       "     WI  WV  WY  \n",
       "100   0   0   0  \n",
       "152   0   0   0  \n",
       "170   0   0   0  \n",
       "186   0   0   0  \n",
       "215   0   0   0  \n",
       "\n",
       "[5 rows x 96 columns]"
      ]
     },
     "execution_count": 25,
     "metadata": {},
     "output_type": "execute_result"
    }
   ],
   "source": [
    "# Lets just check visually that we encoded everything:\n",
    "data_cl.head()"
   ]
  },
  {
   "cell_type": "markdown",
   "metadata": {},
   "source": [
    "### Standardizing\n",
    "Now lets standardize the data before we run our models."
   ]
  },
  {
   "cell_type": "code",
   "execution_count": 26,
   "metadata": {},
   "outputs": [],
   "source": [
    "X = data_cl.iloc[:, data_cl.columns != 'loan_status']\n",
    "y = data_cl['loan_status']\n",
    "r_scale = RobustScaler()\n",
    "X = r_scale.fit_transform(X)"
   ]
  },
  {
   "cell_type": "markdown",
   "metadata": {},
   "source": [
    "# Modeling & Feature Selection:\n",
    "## Includes:\n",
    " - **Train/Test Split**\n",
    " - **UnderSampling for Class Imbalance**\n",
    " - **Model Creation & Fitting**\n",
    "    - Logistic Regression\n",
    "    - Naive Bayes\n",
    "    - Random Forest\n",
    "    - AdaBoost\n",
    " - **Hyperparameter Tuning**\n",
    " - **Ensembling**\n",
    " \n",
    " \n",
    "**Class Imbalance Issue:** As we saw earlier in the graph comparing fully paid vs charged off loans, we have a significantly higher amount of fully paid loans as opposed to charged off loans, creating a class imbalance. In order to deal with this, we will apply random undersampling to our dataset.\n",
    "\n",
    "Lets first split the data into X, and y. Then lets run our models using 10 folds for cross validation. <br>\n",
    "Before we run our models, lets try to understand our problem and why we are classifying the borrower loans as either fully paid or charged off. Lets say we are investors in lending club, we would want to maximize our investment in the amount of loans that are fully paid off, while minimizing our investment in those loans that are likely to be charged off. In order to use our models to better understand which types of loans we should invest in, we need to focus on the investor's risk/reward profile. <br> \n",
    "For more risk averse investors, we would choose to focus primarily on the **False Positives and True Negatives** of our classifiers. **False Positives** signify loans that based on our model, we would invest in, but in reality they would be charged off and we would lose money. **True Negative** are loans that our model correctly identified as charged off, or not investment worthy loans. <br>\n",
    "For more risk seeking investors, we would choose to focus primarily on the **False Negatives and True Positives** of our classifiers. **False Negatives** will predict that the loan is charged off when in reality it was fully paid off, so this would be a loan that based on our model, we would not invest in, but in reality we would miss out on the opportunity to earn a return, since these loans actually do end up being paid back. **True Positives** are loans that our model correctly identified as fully paid off and are loans that we would earn a return on. <br>\n",
    "\n",
    "While all four metrics are important to focus on, in my opinion both types of investors should focus on using a model that minimizes False Positives and True Positives. So to examine each of our classifier's performance, we will focus on the False Positive Rate and the Precision Rate, which can be explained nicely by the AUC-ROC.\n",
    "\n"
   ]
  },
  {
   "cell_type": "code",
   "execution_count": 27,
   "metadata": {},
   "outputs": [],
   "source": [
    "# Train Test Split:\n",
    "X_train, X_test, y_train, y_test = train_test_split(X, y, test_size=0.2)"
   ]
  },
  {
   "cell_type": "code",
   "execution_count": 28,
   "metadata": {},
   "outputs": [],
   "source": [
    "# Random Undersampling:\n",
    "rand_us = RandomUnderSampler()\n",
    "X_samp, y_samp = rand_us.fit_sample(X_train, y_train)\n"
   ]
  },
  {
   "cell_type": "code",
   "execution_count": 29,
   "metadata": {
    "scrolled": false
   },
   "outputs": [
    {
     "name": "stdout",
     "output_type": "stream",
     "text": [
      "Pre-tuning Logistic Regression model average AUC: 0.7107355521623488\n"
     ]
    }
   ],
   "source": [
    "# Logistic Model:\n",
    "log_m = LogisticRegression()\n",
    "log_m.fit(X_samp, y_samp)\n",
    "log_m_scores = cross_val_score(log_m, X_test, y_test, scoring='roc_auc', cv=3, n_jobs=-1)\n",
    "print('Pre-tuning Logistic Regression model average AUC:', log_m_scores.mean())\n"
   ]
  },
  {
   "cell_type": "code",
   "execution_count": 30,
   "metadata": {},
   "outputs": [
    {
     "name": "stdout",
     "output_type": "stream",
     "text": [
      "Naive Bayes model average AUC: 0.6509128708930801\n"
     ]
    }
   ],
   "source": [
    "# Naive Bayes Model:\n",
    "nb_m = GaussianNB()\n",
    "nb_m.fit(X_samp, y_samp)\n",
    "nb_m_scores = cross_val_score(nb_m, X_test, y_test, scoring='roc_auc', cv=3, n_jobs=-1)\n",
    "print('Naive Bayes model average AUC:', nb_m_scores.mean())"
   ]
  },
  {
   "cell_type": "code",
   "execution_count": 31,
   "metadata": {},
   "outputs": [
    {
     "name": "stdout",
     "output_type": "stream",
     "text": [
      "Pre-tuning Random Forest model average AUC: 0.6520270525998564\n"
     ]
    }
   ],
   "source": [
    "# Random Forest Model:\n",
    "rf_m = RandomForestClassifier()\n",
    "rf_m.fit(X_samp, y_samp)\n",
    "rf_m_scores = cross_val_score(rf_m, X_test, y_test, scoring='roc_auc', cv=3, n_jobs=-1)\n",
    "print('Pre-tuning Random Forest model average AUC:', rf_m_scores.mean())\n"
   ]
  },
  {
   "cell_type": "code",
   "execution_count": 32,
   "metadata": {},
   "outputs": [
    {
     "name": "stdout",
     "output_type": "stream",
     "text": [
      "AdaBoostClassifier model average AUC: 0.7151060159512115\n"
     ]
    }
   ],
   "source": [
    "# AdaBoost Model:\n",
    "ada = AdaBoostClassifier()\n",
    "ada.fit(X_samp,y_samp)\n",
    "ada_scores = cross_val_score(ada, X_test, y_test, scoring='roc_auc', cv=3, n_jobs=-1)\n",
    "print('Pre-tuning AdaBoostClassifier model average AUC:', ada_scores.mean())"
   ]
  },
  {
   "cell_type": "markdown",
   "metadata": {},
   "source": [
    "By comparing the AUR-ROC scores for each of the pre-tuning models, we can see that s performs best."
   ]
  },
  {
   "cell_type": "markdown",
   "metadata": {},
   "source": [
    "#### Hyperparameter tuning using gridsearch:"
   ]
  },
  {
   "cell_type": "code",
   "execution_count": 33,
   "metadata": {},
   "outputs": [
    {
     "data": {
      "text/plain": [
       "{'C': 0.1}"
      ]
     },
     "execution_count": 33,
     "metadata": {},
     "output_type": "execute_result"
    }
   ],
   "source": [
    "# Logistic Regression parameter tuning\n",
    "params = [{'C' : [0.001,0.01,0.1,1,10]}]\n",
    "grid_search_log = GridSearchCV(log_m, params,scoring='roc_auc',cv=3, n_jobs=-1)\n",
    "grid_search_log.fit(X_samp,y_samp)\n",
    "grid_search_log.best_params_"
   ]
  },
  {
   "cell_type": "code",
   "execution_count": 34,
   "metadata": {},
   "outputs": [
    {
     "name": "stdout",
     "output_type": "stream",
     "text": [
      "Post-tuning Logistic Regression model average AUC: 0.7108666242885439\n"
     ]
    }
   ],
   "source": [
    "# Logistic Model:\n",
    "log_m = LogisticRegression(C=0.1)\n",
    "log_m.fit(X_samp, y_samp)\n",
    "log_m_scores = cross_val_score(log_m, X_test, y_test, scoring='roc_auc', cv=3, n_jobs=-1)\n",
    "print('Post-tuning Logistic Regression model average AUC:', log_m_scores.mean())\n"
   ]
  },
  {
   "cell_type": "markdown",
   "metadata": {},
   "source": [
    "Not much improvement after tuning the logistic regression model. Lets now look at Random forest."
   ]
  },
  {
   "cell_type": "code",
   "execution_count": 36,
   "metadata": {},
   "outputs": [],
   "source": [
    "# Random Forest parameter tuning\n",
    "#params_rf = [{'n_estimators' : [10,30,50,100,200]}]\n",
    "#grid_search_rf = GridSearchCV(rf_m, params_rf,scoring='roc_auc',cv=3, n_jobs=-1)\n",
    "#grid_search_rf.fit(X_samp,y_samp)\n",
    "#grid_search_rf.best_params_"
   ]
  },
  {
   "cell_type": "code",
   "execution_count": 40,
   "metadata": {},
   "outputs": [
    {
     "name": "stdout",
     "output_type": "stream",
     "text": [
      "Post-tuning Random Forest model average AUC: 0.7113199664332998\n"
     ]
    }
   ],
   "source": [
    "# Random Forest Model:\n",
    "rf_m = RandomForestClassifier(n_estimators = 200 )\n",
    "rf_m.fit(X_samp, y_samp)\n",
    "rf_m_scores = cross_val_score(rf_m, X_test, y_test, scoring='roc_auc', cv=3, n_jobs=-1)\n",
    "print('Post-tuning Random Forest model average AUC:', rf_m_scores.mean())\n"
   ]
  },
  {
   "cell_type": "markdown",
   "metadata": {},
   "source": [
    "After parameter tuning, the Random Forest model has much better performance!"
   ]
  },
  {
   "cell_type": "code",
   "execution_count": null,
   "metadata": {},
   "outputs": [],
   "source": [
    "# AdaBoost parameter tuning\n",
    "#params_ad = [{'n_estimators' : [50,100,200]}]\n",
    "#grid_search_ad = GridSearchCV(ada, params_ad,scoring='roc_auc',cv=3, n_jobs=-1)\n",
    "#grid_search_ad.fit(X_samp,y_samp)\n",
    "#grid_search_ad.best_params_"
   ]
  },
  {
   "cell_type": "code",
   "execution_count": 44,
   "metadata": {},
   "outputs": [
    {
     "name": "stdout",
     "output_type": "stream",
     "text": [
      "Post-tuning AdaBoostClassifier model average AUC: 0.7197814218348069\n"
     ]
    }
   ],
   "source": [
    "# AdaBoost Model:\n",
    "ada = AdaBoostClassifier(n_estimators = 200)\n",
    "ada.fit(X_samp,y_samp)\n",
    "ada_scores = cross_val_score(ada, X_test, y_test, scoring='roc_auc', cv=3, n_jobs=-1)\n",
    "print('Post-tuning AdaBoostClassifier model average AUC:', ada_scores.mean())"
   ]
  },
  {
   "cell_type": "markdown",
   "metadata": {},
   "source": [
    "**Ensemble: Soft voting classifier**\n",
    "Now lets ensemble the four tuned parameter models, using the Soft Voting Classifier ensembling method, and see if we can improve our AUC-ROC score."
   ]
  },
  {
   "cell_type": "code",
   "execution_count": 48,
   "metadata": {},
   "outputs": [
    {
     "name": "stdout",
     "output_type": "stream",
     "text": [
      "Voting Ensemble model average AUC: 0.6956892987555413\n"
     ]
    }
   ],
   "source": [
    "voting_en = VotingClassifier(estimators = ([('Logistic Regression',log_m),('Naive Bayes', nb_m),\n",
    "                                           ('Random Forest',rf_m),('AdaBoost',ada)]), voting='soft')\n",
    "vot_scores = cross_val_score(voting_en, X_test, y_test, scoring='roc_auc', cv=3, n_jobs=-1)\n",
    "print('Voting Ensemble model average AUC:', vot_scores.mean())\n"
   ]
  },
  {
   "cell_type": "code",
   "execution_count": 50,
   "metadata": {},
   "outputs": [
    {
     "name": "stdout",
     "output_type": "stream",
     "text": [
      "Voting Ensemble excluding NB model average AUC: 0.7170956324138987\n"
     ]
    }
   ],
   "source": [
    "voting_en_s = VotingClassifier(estimators = ([('Logistic Regression',log_m),\n",
    "                                           ('Random Forest',rf_m),('AdaBoost',ada)]), voting='soft')\n",
    "vot_scores_s = cross_val_score(voting_en_s, X_test, y_test, scoring='roc_auc', cv=3, n_jobs=-1)\n",
    "print('Voting Ensemble excluding NB model average AUC:', vot_scores_s.mean())\n"
   ]
  },
  {
   "cell_type": "code",
   "execution_count": 51,
   "metadata": {},
   "outputs": [
    {
     "name": "stdout",
     "output_type": "stream",
     "text": [
      "Voting Ensemble excluding NB & LR model average AUC: 0.7119962535896206\n"
     ]
    }
   ],
   "source": [
    "voting_en_3 = VotingClassifier(estimators = ([('Random Forest',rf_m),('AdaBoost',ada)]), voting='soft')\n",
    "vot_scores_3 = cross_val_score(voting_en_3, X_test, y_test, scoring='roc_auc', cv=3, n_jobs=-1)\n",
    "print('Voting Ensemble excluding NB & LR model average AUC:', vot_scores_3.mean())\n"
   ]
  },
  {
   "cell_type": "markdown",
   "metadata": {},
   "source": [
    "## Conclusion:\n",
    "In conclusion of this project, the model with the best AUC-ROC score was the AdaBoost model. With a score of 0.71978, this model is fairly accurate, however it can be improved. All of the models have an AUC-ROC score around 0.71, which suggests that the performance is limited by the dataset and features. This project was a great learning experience for me, and has inspired me to conduct future research. "
   ]
  },
  {
   "cell_type": "code",
   "execution_count": null,
   "metadata": {},
   "outputs": [],
   "source": []
  }
 ],
 "metadata": {
  "kernelspec": {
   "display_name": "Python 3",
   "language": "python",
   "name": "python3"
  },
  "language_info": {
   "codemirror_mode": {
    "name": "ipython",
    "version": 3
   },
   "file_extension": ".py",
   "mimetype": "text/x-python",
   "name": "python",
   "nbconvert_exporter": "python",
   "pygments_lexer": "ipython3",
   "version": "3.6.5"
  }
 },
 "nbformat": 4,
 "nbformat_minor": 2
}
